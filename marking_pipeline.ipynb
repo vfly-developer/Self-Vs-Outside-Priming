{
 "cells": [
  {
   "attachments": {},
   "cell_type": "markdown",
   "metadata": {},
   "source": [
    "## Getting a cleaned version of text in sentence form for later reference, not for analysis...\n"
   ]
  },
  {
   "cell_type": "code",
   "execution_count": 9,
   "metadata": {},
   "outputs": [],
   "source": [
    "import re"
   ]
  },
  {
   "cell_type": "code",
   "execution_count": 13,
   "metadata": {},
   "outputs": [],
   "source": [
    "def deEmojify(text):\n",
    "    regrex_pattern = re.compile(pattern = \"[\"\n",
    "        u\"\\U0001F600-\\U0001F64F\"  # emoticons\n",
    "        u\"\\U0001F300-\\U0001F5FF\"  # symbols & pictographs\n",
    "        u\"\\U0001F680-\\U0001F6FF\"  # transport & map symbols\n",
    "        u\"\\U0001F1E0-\\U0001F1FF\"  # flags (iOS)\n",
    "        u\"\\U0000270B\"\n",
    "                           \"]+\", flags = re.UNICODE)\n",
    "    return regrex_pattern.sub(r'',text)"
   ]
  },
  {
   "cell_type": "code",
   "execution_count": 14,
   "metadata": {},
   "outputs": [],
   "source": [
    "no_emojis_spanglish_sentences = []\n",
    "\n",
    "with open(\"standardized_text/spanglish/sentimix2020.out\" , \"r\") as f:\n",
    "    tmp = []\n",
    "    for sentence in f.readlines():\n",
    "        tmp.append(deEmojify(sentence))\n",
    "\n",
    "    no_emojis_spanglish_sentences = tmp\n",
    "    "
   ]
  },
  {
   "cell_type": "code",
   "execution_count": 16,
   "metadata": {},
   "outputs": [],
   "source": [
    "with open(\"standardized_text/spanglish/sentimix2020_no_emojjis.out\", \"w\") as f:\n",
    "    for sentence in no_emojis_spanglish_sentences:\n",
    "        f.write(sentence)"
   ]
  },
  {
   "attachments": {},
   "cell_type": "markdown",
   "metadata": {},
   "source": [
    "## For analysis:"
   ]
  },
  {
   "cell_type": "code",
   "execution_count": 17,
   "metadata": {},
   "outputs": [],
   "source": [
    "regrex_pattern = re.compile(pattern = \"[\"\n",
    "        u\"\\U0001F600-\\U0001F64F\"  # emoticons\n",
    "        u\"\\U0001F300-\\U0001F5FF\"  # symbols & pictographs\n",
    "        u\"\\U0001F680-\\U0001F6FF\"  # transport & map symbols\n",
    "        u\"\\U0001F1E0-\\U0001F1FF\"  # flags (iOS)\n",
    "        u\"\\U0000270B\"\n",
    "                           \"]+\", flags = re.UNICODE)"
   ]
  },
  {
   "cell_type": "code",
   "execution_count": 22,
   "metadata": {},
   "outputs": [],
   "source": [
    "with open(\"sentimix2020.txt\", \"r\") as f1:\n",
    "    with open(\"sentimix2020_pruned.out\", \"w\") as f2:\n",
    "        for line in f1.readlines():\n",
    "            data = line.split()\n",
    "            if len(data) == 0:\n",
    "                f2.write(\"\\n\")\n",
    "            elif data[0] == 'meta':\n",
    "                data = data[:-1]\n",
    "                f2.write(\" \".join(data) + \"\\n\")\n",
    "            elif not regrex_pattern.match(data[0]) and '#' not in data[0] and '@' \\\n",
    "            not in data[0] and \"http:\" not in data[0].lower() and \"https:\" not in data[0].lower() and data[1] != 'other':\n",
    "                f2.write(\" \".join(data) + \"\\n\")\n",
    " "
   ]
  },
  {
   "cell_type": "code",
   "execution_count": 23,
   "metadata": {},
   "outputs": [
    {
     "name": "stdout",
     "output_type": "stream",
     "text": [
      "So lang1\n",
      "Tonight lang1\n",
      "Eres lang2\n",
      "Yo lang2\n",
      "Fuck lang1\n",
      "I lang1\n",
      "Ke lang2\n",
      "Why lang1\n",
      "Since lang1\n",
      "My lang1\n",
      "If lang1\n",
      "Tengo lang2\n",
      "Teachers lang1\n",
      "Bien lang2\n",
      "lmao lang1\n",
      "ha lang1\n",
      "lo lang2\n",
      "I lang1\n",
      "actually lang1\n",
      "ha lang1\n",
      "Nobody lang1\n"
     ]
    },
    {
     "ename": "KeyboardInterrupt",
     "evalue": "Interrupted by user",
     "output_type": "error",
     "traceback": [
      "\u001b[0;31m---------------------------------------------------------------------------\u001b[0m",
      "\u001b[0;31mKeyboardInterrupt\u001b[0m                         Traceback (most recent call last)",
      "Cell \u001b[0;32mIn[23], line 16\u001b[0m\n\u001b[1;32m     14\u001b[0m flag \u001b[39m=\u001b[39m \u001b[39mTrue\u001b[39;00m\n\u001b[1;32m     15\u001b[0m \u001b[39mprint\u001b[39m(\u001b[39m\"\u001b[39m\u001b[39m \u001b[39m\u001b[39m\"\u001b[39m\u001b[39m.\u001b[39mjoin(data))\n\u001b[0;32m---> 16\u001b[0m val \u001b[39m=\u001b[39m \u001b[39minput\u001b[39;49m(\u001b[39m\"\u001b[39;49m\u001b[39mlang1: (0=eng, 1=span)\u001b[39;49m\u001b[39m\"\u001b[39;49m)\n\u001b[1;32m     17\u001b[0m \u001b[39mif\u001b[39;00m val:\n\u001b[1;32m     18\u001b[0m     lang1 \u001b[39m=\u001b[39m \u001b[39m\"\u001b[39m\u001b[39mspan\u001b[39m\u001b[39m\"\u001b[39m\n",
      "File \u001b[0;32m~/opt/anaconda3/lib/python3.9/site-packages/ipykernel/kernelbase.py:1177\u001b[0m, in \u001b[0;36mKernel.raw_input\u001b[0;34m(self, prompt)\u001b[0m\n\u001b[1;32m   1173\u001b[0m \u001b[39mif\u001b[39;00m \u001b[39mnot\u001b[39;00m \u001b[39mself\u001b[39m\u001b[39m.\u001b[39m_allow_stdin:\n\u001b[1;32m   1174\u001b[0m     \u001b[39mraise\u001b[39;00m StdinNotImplementedError(\n\u001b[1;32m   1175\u001b[0m         \u001b[39m\"\u001b[39m\u001b[39mraw_input was called, but this frontend does not support input requests.\u001b[39m\u001b[39m\"\u001b[39m\n\u001b[1;32m   1176\u001b[0m     )\n\u001b[0;32m-> 1177\u001b[0m \u001b[39mreturn\u001b[39;00m \u001b[39mself\u001b[39;49m\u001b[39m.\u001b[39;49m_input_request(\n\u001b[1;32m   1178\u001b[0m     \u001b[39mstr\u001b[39;49m(prompt),\n\u001b[1;32m   1179\u001b[0m     \u001b[39mself\u001b[39;49m\u001b[39m.\u001b[39;49m_parent_ident[\u001b[39m\"\u001b[39;49m\u001b[39mshell\u001b[39;49m\u001b[39m\"\u001b[39;49m],\n\u001b[1;32m   1180\u001b[0m     \u001b[39mself\u001b[39;49m\u001b[39m.\u001b[39;49mget_parent(\u001b[39m\"\u001b[39;49m\u001b[39mshell\u001b[39;49m\u001b[39m\"\u001b[39;49m),\n\u001b[1;32m   1181\u001b[0m     password\u001b[39m=\u001b[39;49m\u001b[39mFalse\u001b[39;49;00m,\n\u001b[1;32m   1182\u001b[0m )\n",
      "File \u001b[0;32m~/opt/anaconda3/lib/python3.9/site-packages/ipykernel/kernelbase.py:1219\u001b[0m, in \u001b[0;36mKernel._input_request\u001b[0;34m(self, prompt, ident, parent, password)\u001b[0m\n\u001b[1;32m   1216\u001b[0m             \u001b[39mbreak\u001b[39;00m\n\u001b[1;32m   1217\u001b[0m \u001b[39mexcept\u001b[39;00m \u001b[39mKeyboardInterrupt\u001b[39;00m:\n\u001b[1;32m   1218\u001b[0m     \u001b[39m# re-raise KeyboardInterrupt, to truncate traceback\u001b[39;00m\n\u001b[0;32m-> 1219\u001b[0m     \u001b[39mraise\u001b[39;00m \u001b[39mKeyboardInterrupt\u001b[39;00m(\u001b[39m\"\u001b[39m\u001b[39mInterrupted by user\u001b[39m\u001b[39m\"\u001b[39m) \u001b[39mfrom\u001b[39;00m \u001b[39mNone\u001b[39m\n\u001b[1;32m   1220\u001b[0m \u001b[39mexcept\u001b[39;00m \u001b[39mException\u001b[39;00m:\n\u001b[1;32m   1221\u001b[0m     \u001b[39mself\u001b[39m\u001b[39m.\u001b[39mlog\u001b[39m.\u001b[39mwarning(\u001b[39m\"\u001b[39m\u001b[39mInvalid Message:\u001b[39m\u001b[39m\"\u001b[39m, exc_info\u001b[39m=\u001b[39m\u001b[39mTrue\u001b[39;00m)\n",
      "\u001b[0;31mKeyboardInterrupt\u001b[0m: Interrupted by user"
     ]
    }
   ],
   "source": [
    "with open(\"sentimix2020_pruned.out\", \"r\") as f1:\n",
    "    with open(\"sentimix2020_pruned_marked.out\", \"w\") as f2:\n",
    "        flag = False\n",
    "        lang1 = None\n",
    "        lang2 = None\n",
    "        for line in f1.readlines():\n",
    "            data = line.split()\n",
    "            if len(data) == 0:\n",
    "                flag = False\n",
    "                f2.write(\"\\n\")\n",
    "            elif data[0] == \"meta\" or data[1] == \"ne\":\n",
    "                f2.write(\" \".join(data) + \"\\n\")\n",
    "            elif not flag:\n",
    "                flag = True\n",
    "                print(\" \".join(data))\n",
    "                val = input(\"lang1: (0=eng, 1=span, 2=unsure)\")\n",
    "                if val == 0:\n",
    "                    lang1 = \"eng\"\n",
    "                elif val == 1:\n",
    "                    lang1 = \"span\"\n",
    "                \n",
    "                if val != 2:\n",
    "                    lang2 = \"eng\" if lang1 == \"span\" else \"span\"\n",
    "                    data[1] = lang1 if data[1] == \"lang1\" else lang2\n",
    "                    \n",
    "                f2.write(\" \".join(data) + \"\\n\")\n",
    "            else:\n",
    "                data[1] = lang1 if data[1] == \"lang1\" else lang2\n",
    "                f2.write(\" \".join(data) + \"\\n\")\n",
    "\n",
    "\n",
    "\n",
    "\n",
    "\n"
   ]
  }
 ],
 "metadata": {
  "kernelspec": {
   "display_name": "base",
   "language": "python",
   "name": "python3"
  },
  "language_info": {
   "codemirror_mode": {
    "name": "ipython",
    "version": 3
   },
   "file_extension": ".py",
   "mimetype": "text/x-python",
   "name": "python",
   "nbconvert_exporter": "python",
   "pygments_lexer": "ipython3",
   "version": "3.9.12"
  },
  "orig_nbformat": 4
 },
 "nbformat": 4,
 "nbformat_minor": 2
}
